{
 "cells": [
  {
   "cell_type": "markdown",
   "metadata": {},
   "source": [
    "<img src=\"../../img/data-access-wrangling1_0.png\" alt=\"Drawing\" style=\"width: 200px;\"/>\n",
    "<b>I will one day update this to be a giant binary snake</b> <small>prbly not</small>"
   ]
  },
  {
   "cell_type": "markdown",
   "metadata": {},
   "source": [
    "Wrangling is the first part/step in this pipeline.\n",
    "The importance of this is simple. Data exists, it is a wild and dangerous creature that sometimes comes is a wrapped up csv or in this case as a compiled pdf. We must take the bull or in this case pdf by the horns and do as the cowboys once did and break this beast!"
   ]
  },
  {
   "cell_type": "markdown",
   "metadata": {},
   "source": [
    "First comes the lasso"
   ]
  },
  {
   "cell_type": "code",
   "execution_count": null,
   "metadata": {},
   "outputs": [],
   "source": [
    "!pip install PyPDF2 #we will use this to scrape text out of the pdf "
   ]
  },
  {
   "cell_type": "markdown",
   "metadata": {},
   "source": [
    "Now in my opinion the most important part. Finding the bull."
   ]
  },
  {
   "cell_type": "code",
   "execution_count": null,
   "metadata": {},
   "outputs": [],
   "source": [
    "#This works in most linux enviroments\n",
    "#!rm *.pdf\n",
    "#!wget https://github.com/c2-d2/pr_mort_official/raw/master/data/RD-Mortality-Report_2015-18-180531.pdf\n",
    "#!mv RD-Mortality-Report_2015-18-180531.pdf Mortality.pdf\n",
    "\n",
    "#The above works fine but you need wget so id rather it all be in plain python\n",
    "import requests\n",
    "pdf = r\"https://github.com/c2-d2/pr_mort_official/raw/master/data/RD-Mortality-Report_2015-18-180531.pdf\"\n",
    "open(\"Mortality.pdf\" , 'wb').write(requests.get(pdf).content)"
   ]
  },
  {
   "cell_type": "code",
   "execution_count": null,
   "metadata": {},
   "outputs": [],
   "source": [
    "from IPython.display import HTML\n",
    "HTML('<iframe src=Mortality.pdf width=700 height=350></iframe>')"
   ]
  },
  {
   "cell_type": "code",
   "execution_count": null,
   "metadata": {},
   "outputs": [],
   "source": [
    "#Necesary imports\n",
    "import PyPDF2\n",
    "from pandas import DataFrame as df\n",
    "import matplotlib.pyplot as plt"
   ]
  },
  {
   "cell_type": "code",
   "execution_count": null,
   "metadata": {},
   "outputs": [],
   "source": [
    "pdfFileObj = open('Mortality.pdf', 'rb')\n",
    "pdfReader = PyPDF2.PdfFileReader(pdfFileObj)\n",
    "pageObj = pdfReader.getPage(0)\n",
    "pageObj.extractText()"
   ]
  },
  {
   "cell_type": "markdown",
   "metadata": {},
   "source": [
    "G R 8. I havent the foggiest idea what that is.\n",
    "Lets fix that right now."
   ]
  },
  {
   "cell_type": "code",
   "execution_count": null,
   "metadata": {},
   "outputs": [],
   "source": [
    "mToNum = {\n",
    "    \"SEP\":\"09\",\n",
    "    \"OCT\":\"10\",\n",
    "    \"NOV\":\"11\",\n",
    "    \"DEC\":\"12\",\n",
    "    \"JAN\":\"01\",\n",
    "    \"FEB\":\"02\",\n",
    "    \"MAR\":\"03\",\n",
    "    \"APR\":\"04\",\n",
    "    \"MAY\":\"05\",\n",
    "    \"JUN\":\"06\",\n",
    "    \"JUL\":\"07\",\n",
    "    \"AGO\":\"08\"}\n",
    "#This is usefull"
   ]
  },
  {
   "cell_type": "code",
   "execution_count": null,
   "metadata": {},
   "outputs": [],
   "source": [
    "def general_scrape(data):\n",
    "    data = data[1].split()\n",
    "    labels = data[0:4]\n",
    "    indexes = []\n",
    "    stop = data.index('Total')\n",
    "    #for i , val in enumerate(data):\n",
    "    #    if not (i-4) % 5 and i < 160:\n",
    "    #        print(F\"{val}:{i}\")\n",
    "    out = []\n",
    "    for i in range(4 , stop , 5):\n",
    "        indexes.append(data[i])\n",
    "        out.append([])\n",
    "        out[-1].append(int(data[i+1]))\n",
    "        out[-1].append(int(data[i+2]))\n",
    "        out[-1].append(int(data[i+3]))\n",
    "        out[-1].append(int(data[i+4]))\n",
    "    return df(data=out , index=indexes , columns=labels)"
   ]
  },
  {
   "cell_type": "code",
   "execution_count": null,
   "metadata": {},
   "outputs": [],
   "source": [
    "def feb_scrape(data):\n",
    "    data = data[1].split()\n",
    "    labels = data[0:4]\n",
    "    indexes = []\n",
    "    stop = data.index('Total')\n",
    "    #for i , val in enumerate(data):\n",
    "    #    if not (i-4) % 5 and i < 160:\n",
    "    #        print(F\"{val}:{i}\")\n",
    "    out = []\n",
    "    for i in range(4 , stop , 5):\n",
    "        indexes.append(data[i])\n",
    "        out.append([])\n",
    "        if i != 144:\n",
    "            out[-1].append(int(data[i+1]))\n",
    "            out[-1].append(int(data[i+2]))\n",
    "            out[-1].append(int(data[i+3]))\n",
    "            out[-1].append(int(data[i+4]))\n",
    "        else:\n",
    "            break\n",
    "    out[-1].append(0)\n",
    "    out[-1].append(int(data[i+1]))\n",
    "    out[-1].append(0)\n",
    "    out[-1].append(0)\n",
    "    indexes.append(data[i+2])\n",
    "    out.append([])\n",
    "    out[-1].append(int(data[i+3]))\n",
    "    out[-1].append(int(data[i+4]))\n",
    "    out[-1].append(int(data[i+5]))\n",
    "    out[-1].append(int(data[i+6]))\n",
    "    \n",
    "    #return df(data=out , index=indexes , columns=labels)\n",
    "    return fmt"
   ]
  },
  {
   "cell_type": "code",
   "execution_count": null,
   "metadata": {},
   "outputs": [],
   "source": [
    "def scrape_data(data , month):\n",
    "    data = data[1].split()\n",
    "    labels = data[0:4]\n",
    "    indexes = []\n",
    "    stop = data.index('Total')\n",
    "    out = []\n",
    "    for i in range(4 , stop , 5):\n",
    "        indexes.append(data[i])\n",
    "        day = data[i]\n",
    "        if not len(day)-1:\n",
    "            day = \"0\"+day\n",
    "        if (i != 144 or month!=\"FEB\"):\n",
    "            \n",
    "            out.append([F\"{labels[0]}-{mToNum[month]}-{day}\",int(data[i+1])])\n",
    "            out.append([F\"{labels[1]}-{mToNum[month]}-{day}\",int(data[i+2])])\n",
    "            out.append([F\"{labels[2]}-{mToNum[month]}-{day}\",int(data[i+3])])            \n",
    "            out.append([F\"{labels[3]}-{mToNum[month]}-{day}\",int(data[i+4])])\n",
    "        else:\n",
    "            #print(\"Breaking\")\n",
    "            out.append([F\"{labels[1]}-{mToNum[month]}-{day}\",int(data[i+1])])\n",
    "            break\n",
    "    \n",
    "    return out"
   ]
  },
  {
   "cell_type": "code",
   "execution_count": null,
   "metadata": {
    "scrolled": true
   },
   "outputs": [],
   "source": [
    "\n",
    "\n",
    "        \n",
    "def scrape(txt):\n",
    "    data = []\n",
    "    months = [\"SEP\", \"OCT\", \"NOV\", \"DEC\" , \"JAN\", \"FEB\", \"MAR\", \"APR\", \"MAY\" , \"JUN\" , \"JUL\", \"AGO\"]\n",
    "    for month in months:\n",
    "        if month in txt:\n",
    "            \"\"\"if \"FEB\"==month:\n",
    "                return feb_scrape(txt.split(month))\n",
    "            else:\n",
    "                return general_scrape(txt.split(month))\"\"\"\n",
    "            return scrape_data(txt.split(month) , month)\n",
    "\n",
    "    \n",
    "        \n",
    "    #print(out)\n",
    "scrape(pageObj.extractText())"
   ]
  },
  {
   "cell_type": "markdown",
   "metadata": {},
   "source": [
    "That looks presentable :). Now for the rest."
   ]
  },
  {
   "cell_type": "code",
   "execution_count": null,
   "metadata": {},
   "outputs": [],
   "source": [
    "data = []\n",
    "for pages in range(pdfReader.getNumPages()):\n",
    "    data += scrape(pdfReader.getPage(pages).extractText())\n",
    "data.sort()\n",
    "for frame in data:\n",
    "    print(frame)\n"
   ]
  }
 ],
 "metadata": {
  "kernelspec": {
   "display_name": "Python 3",
   "language": "python",
   "name": "python3"
  },
  "language_info": {
   "codemirror_mode": {
    "name": "ipython",
    "version": 3
   },
   "file_extension": ".py",
   "mimetype": "text/x-python",
   "name": "python",
   "nbconvert_exporter": "python",
   "pygments_lexer": "ipython3",
   "version": "3.7.2"
  }
 },
 "nbformat": 4,
 "nbformat_minor": 2
}
