{
 "cells": [
  {
   "cell_type": "markdown",
   "metadata": {},
   "source": [
    "# Step 3: Data Analysis\n",
    "\n",
    "__Tools__: Analysis will be done in python, using a number of useful open source python packages:\n",
    "\n",
    "- __Pandas__ A very useful data analysis and manipulation package http://pandas.pydata.org/\n",
    "- __Numpy__ Python's scientific computing package. http://www.numpy.org/\n",
    "- __Statsmodels__ is a module that provides classes and functions for the estimation of many different statistical models. https://www.statsmodels.org/\n",
    "\n",
    "All these packages come bundled as part of the Anaconda python distribution. Install Anaconda for the simplest way to get all dependancies for the tutorial: __Anaconda__ https://www.anaconda.com/download/\n",
    "\n",
    "Let's get started by importing the raw data and libraries we will use."
   ]
  },
  {
   "cell_type": "code",
   "execution_count": 1,
   "metadata": {},
   "outputs": [],
   "source": [
    "import pandas as pd\n",
    "import numpy as np"
   ]
  },
  {
   "cell_type": "markdown",
   "metadata": {},
   "source": [
    "# Import Dataframe and add the date columns\n",
    "Now, the data is more manageable and we can work with it.\n"
   ]
  },
  {
   "cell_type": "code",
   "execution_count": 2,
   "metadata": {},
   "outputs": [
    {
     "data": {
      "text/html": [
       "<div>\n",
       "<style scoped>\n",
       "    .dataframe tbody tr th:only-of-type {\n",
       "        vertical-align: middle;\n",
       "    }\n",
       "\n",
       "    .dataframe tbody tr th {\n",
       "        vertical-align: top;\n",
       "    }\n",
       "\n",
       "    .dataframe thead th {\n",
       "        text-align: right;\n",
       "    }\n",
       "</style>\n",
       "<table border=\"1\" class=\"dataframe\">\n",
       "  <thead>\n",
       "    <tr style=\"text-align: right;\">\n",
       "      <th></th>\n",
       "      <th>date</th>\n",
       "      <th>deaths</th>\n",
       "      <th>year</th>\n",
       "      <th>month</th>\n",
       "      <th>day</th>\n",
       "    </tr>\n",
       "    <tr>\n",
       "      <th>date</th>\n",
       "      <th></th>\n",
       "      <th></th>\n",
       "      <th></th>\n",
       "      <th></th>\n",
       "      <th></th>\n",
       "    </tr>\n",
       "  </thead>\n",
       "  <tbody>\n",
       "    <tr>\n",
       "      <th>2015-01-01</th>\n",
       "      <td>2015-01-01</td>\n",
       "      <td>107</td>\n",
       "      <td>2015</td>\n",
       "      <td>1</td>\n",
       "      <td>1</td>\n",
       "    </tr>\n",
       "    <tr>\n",
       "      <th>2015-01-02</th>\n",
       "      <td>2015-01-02</td>\n",
       "      <td>101</td>\n",
       "      <td>2015</td>\n",
       "      <td>1</td>\n",
       "      <td>2</td>\n",
       "    </tr>\n",
       "    <tr>\n",
       "      <th>2015-01-03</th>\n",
       "      <td>2015-01-03</td>\n",
       "      <td>78</td>\n",
       "      <td>2015</td>\n",
       "      <td>1</td>\n",
       "      <td>3</td>\n",
       "    </tr>\n",
       "    <tr>\n",
       "      <th>2015-01-04</th>\n",
       "      <td>2015-01-04</td>\n",
       "      <td>121</td>\n",
       "      <td>2015</td>\n",
       "      <td>1</td>\n",
       "      <td>4</td>\n",
       "    </tr>\n",
       "    <tr>\n",
       "      <th>2015-01-05</th>\n",
       "      <td>2015-01-05</td>\n",
       "      <td>99</td>\n",
       "      <td>2015</td>\n",
       "      <td>1</td>\n",
       "      <td>5</td>\n",
       "    </tr>\n",
       "  </tbody>\n",
       "</table>\n",
       "</div>"
      ],
      "text/plain": [
       "                 date  deaths  year  month  day\n",
       "date                                           \n",
       "2015-01-01 2015-01-01     107  2015      1    1\n",
       "2015-01-02 2015-01-02     101  2015      1    2\n",
       "2015-01-03 2015-01-03      78  2015      1    3\n",
       "2015-01-04 2015-01-04     121  2015      1    4\n",
       "2015-01-05 2015-01-05      99  2015      1    5"
      ]
     },
     "execution_count": 2,
     "metadata": {},
     "output_type": "execute_result"
    }
   ],
   "source": [
    "# DataFrame is imported as a csv from the wrangling and made into a dataframe with the date as index\n",
    "df = pd.read_csv('mortality.csv', parse_dates = ['date'])\n",
    "df = df.set_index(df.date)\n",
    "\n",
    "# Adding year, month, day as columns in the dataframe\n",
    "df['year'] = pd.DatetimeIndex(df['date']).year\n",
    "df['month'] = pd.DatetimeIndex(df['date']).month\n",
    "df['day'] = pd.DatetimeIndex(df['date']).day\n",
    "\n",
    "df.head()"
   ]
  },
  {
   "cell_type": "markdown",
   "metadata": {},
   "source": [
    "# Making dictionaries from estimates and adding it to our data set\n",
    "The website https://simplystatistics.org/2018/06/08/a-first-look-at-recently-released-official-puerto-rico-death-count-data/ includes estimates from Teralytics and estimates of population by year. "
   ]
  },
  {
   "cell_type": "code",
   "execution_count": 3,
   "metadata": {},
   "outputs": [],
   "source": [
    "# population from yearly data and data sampled from Teralytics estimates by author \n",
    "# this is made into a dictionary \n",
    "samples = {\n",
    "    '2010-07-02': 3721525,\n",
    "    '2011-07-02': 3678732,\n",
    "    '2012-07-02': 3634488,\n",
    "    '2013-07-02': 3593077,\n",
    "    '2014-07-02': 3534874,\n",
    "    '2015-07-02': 3473177,\n",
    "    '2016-07-02': 3406520,\n",
    "    '2017-07-02': 3337177,\n",
    "    \n",
    "    '2017-09-19': 3337000,\n",
    "    '2017-10-15': 3237000,\n",
    "    '2017-11-15': 3202000,\n",
    "    '2017-12-15': 3200000,\n",
    "    '2018-01-15': 3223000,\n",
    "    '2018-02-15': 3278000\n",
    "}\n",
    "\n",
    "# add the above data points to our data set\n",
    "# turn the dictionary into a datafrane and add it into the original data frame\n",
    "# index is date and the column is est_pop\n",
    "pdf = pd.DataFrame.from_dict(samples, orient='index', columns=['est_pop'])\n",
    "pdf = pdf.set_index(pd.to_datetime(pdf.index))\n",
    "pdf.est_pop = pdf.est_pop.astype(int)\n",
    "\n",
    "df = df.join(pdf)"
   ]
  },
  {
   "cell_type": "markdown",
   "metadata": {},
   "source": [
    "# Linear interpolation of estimated population\n",
    "Linear interpolation is a method of curve fitting using linear polynomials to construct new data points within the range of a discrete set of known data points. This estimate is used to graph."
   ]
  },
  {
   "cell_type": "code",
   "execution_count": 4,
   "metadata": {},
   "outputs": [],
   "source": [
    "# linear interpolation is method of curve fitting using linear polynomials to construct \n",
    "# new data points within the range of a discrete set of known data points \n",
    "df['est_pop_lerped'] = df.est_pop.interpolate(limit_direction='both')\n"
   ]
  },
  {
   "cell_type": "markdown",
   "metadata": {},
   "source": [
    "# Calculating Rate\n",
    "Using days prior to sept 20th to calculate yearly median death rate."
   ]
  },
  {
   "cell_type": "code",
   "execution_count": 5,
   "metadata": {},
   "outputs": [
    {
     "data": {
      "text/html": [
       "<div>\n",
       "<style scoped>\n",
       "    .dataframe tbody tr th:only-of-type {\n",
       "        vertical-align: middle;\n",
       "    }\n",
       "\n",
       "    .dataframe tbody tr th {\n",
       "        vertical-align: top;\n",
       "    }\n",
       "\n",
       "    .dataframe thead th {\n",
       "        text-align: right;\n",
       "    }\n",
       "</style>\n",
       "<table border=\"1\" class=\"dataframe\">\n",
       "  <thead>\n",
       "    <tr style=\"text-align: right;\">\n",
       "      <th></th>\n",
       "      <th>deaths</th>\n",
       "      <th>month</th>\n",
       "      <th>day</th>\n",
       "      <th>est_pop</th>\n",
       "      <th>est_pop_lerped</th>\n",
       "      <th>calc_rate</th>\n",
       "    </tr>\n",
       "    <tr>\n",
       "      <th>year</th>\n",
       "      <th></th>\n",
       "      <th></th>\n",
       "      <th></th>\n",
       "      <th></th>\n",
       "      <th></th>\n",
       "      <th></th>\n",
       "    </tr>\n",
       "  </thead>\n",
       "  <tbody>\n",
       "    <tr>\n",
       "      <th>2015</th>\n",
       "      <td>78.0</td>\n",
       "      <td>5.0</td>\n",
       "      <td>15.0</td>\n",
       "      <td>3473177.0</td>\n",
       "      <td>3.473177e+06</td>\n",
       "      <td>8.197106</td>\n",
       "    </tr>\n",
       "    <tr>\n",
       "      <th>2016</th>\n",
       "      <td>78.5</td>\n",
       "      <td>5.0</td>\n",
       "      <td>15.0</td>\n",
       "      <td>3406520.0</td>\n",
       "      <td>3.416081e+06</td>\n",
       "      <td>8.387468</td>\n",
       "    </tr>\n",
       "    <tr>\n",
       "      <th>2017</th>\n",
       "      <td>80.0</td>\n",
       "      <td>5.0</td>\n",
       "      <td>15.0</td>\n",
       "      <td>3337088.5</td>\n",
       "      <td>3.346961e+06</td>\n",
       "      <td>8.750266</td>\n",
       "    </tr>\n",
       "    <tr>\n",
       "      <th>2018</th>\n",
       "      <td>66.0</td>\n",
       "      <td>5.0</td>\n",
       "      <td>15.0</td>\n",
       "      <td>3250500.0</td>\n",
       "      <td>3.278000e+06</td>\n",
       "      <td>7.348993</td>\n",
       "    </tr>\n",
       "  </tbody>\n",
       "</table>\n",
       "</div>"
      ],
      "text/plain": [
       "      deaths  month   day    est_pop  est_pop_lerped  calc_rate\n",
       "year                                                           \n",
       "2015    78.0    5.0  15.0  3473177.0    3.473177e+06   8.197106\n",
       "2016    78.5    5.0  15.0  3406520.0    3.416081e+06   8.387468\n",
       "2017    80.0    5.0  15.0  3337088.5    3.346961e+06   8.750266\n",
       "2018    66.0    5.0  15.0  3250500.0    3.278000e+06   7.348993"
      ]
     },
     "execution_count": 5,
     "metadata": {},
     "output_type": "execute_result"
    }
   ],
   "source": [
    "# made a copy of the dataframe\n",
    "rdf = df.copy()\n",
    "\n",
    "# the article says only to use days prior to sept 20th in calcualting yearly median death rate\n",
    "rdf = rdf[rdf['date'].dt.dayofyear < 263] # sept 20th is 263rd day of year \n",
    "\n",
    "# calculating calc_rate\n",
    "rdf['calc_rate'] = rdf.deaths / rdf.est_pop_lerped * 365 * 1000\n",
    "rdf.groupby('year').median() "
   ]
  },
  {
   "cell_type": "markdown",
   "metadata": {},
   "source": [
    "# Calculating yearly rates\n",
    "Now, we use the data given to us by the page previously mentioned and add it into our dataframe."
   ]
  },
  {
   "cell_type": "code",
   "execution_count": 6,
   "metadata": {},
   "outputs": [],
   "source": [
    "# Dictionary given by the original website\n",
    "yearly_rates = {\n",
    "    2015: 8.197106,\n",
    "    2016: 8.387468,\n",
    "    2017: 8.750266,\n",
    "    2018: 8.750266 # this is assumed same as 2017 from above result\n",
    "}\n",
    "\n",
    "# yrdf= yearly rates data frame\n",
    "# turn the dictionary into a data frame and add to dataframe\n",
    "yrdf = pd.DataFrame.from_dict(yearly_rates, orient='index', columns=['year_rate'])\n",
    "df = df.join(yrdf, on='year')"
   ]
  },
  {
   "cell_type": "markdown",
   "metadata": {},
   "source": [
    "# Calculate day rate\n",
    "Adding a daily rate column calculating the death rate across the entire dataset."
   ]
  },
  {
   "cell_type": "code",
   "execution_count": 7,
   "metadata": {},
   "outputs": [],
   "source": [
    "# recalculate death rate across entire dataset\n",
    "df['day_rate'] = df.deaths / df.est_pop_lerped * 365 * 1000"
   ]
  },
  {
   "cell_type": "markdown",
   "metadata": {},
   "source": [
    "# Clean up population columns\n",
    "Cleaning up the columns to make it more manageable."
   ]
  },
  {
   "cell_type": "code",
   "execution_count": 8,
   "metadata": {},
   "outputs": [
    {
     "data": {
      "text/html": [
       "<div>\n",
       "<style scoped>\n",
       "    .dataframe tbody tr th:only-of-type {\n",
       "        vertical-align: middle;\n",
       "    }\n",
       "\n",
       "    .dataframe tbody tr th {\n",
       "        vertical-align: top;\n",
       "    }\n",
       "\n",
       "    .dataframe thead th {\n",
       "        text-align: right;\n",
       "    }\n",
       "</style>\n",
       "<table border=\"1\" class=\"dataframe\">\n",
       "  <thead>\n",
       "    <tr style=\"text-align: right;\">\n",
       "      <th></th>\n",
       "      <th>date</th>\n",
       "      <th>deaths</th>\n",
       "      <th>year</th>\n",
       "      <th>month</th>\n",
       "      <th>day</th>\n",
       "      <th>pop</th>\n",
       "      <th>year_rate</th>\n",
       "      <th>day_rate</th>\n",
       "    </tr>\n",
       "    <tr>\n",
       "      <th>date</th>\n",
       "      <th></th>\n",
       "      <th></th>\n",
       "      <th></th>\n",
       "      <th></th>\n",
       "      <th></th>\n",
       "      <th></th>\n",
       "      <th></th>\n",
       "      <th></th>\n",
       "    </tr>\n",
       "  </thead>\n",
       "  <tbody>\n",
       "    <tr>\n",
       "      <th>2015-01-01</th>\n",
       "      <td>2015-01-01</td>\n",
       "      <td>107</td>\n",
       "      <td>2015</td>\n",
       "      <td>1</td>\n",
       "      <td>1</td>\n",
       "      <td>3473177.0</td>\n",
       "      <td>8.197106</td>\n",
       "      <td>11.244748</td>\n",
       "    </tr>\n",
       "    <tr>\n",
       "      <th>2015-01-02</th>\n",
       "      <td>2015-01-02</td>\n",
       "      <td>101</td>\n",
       "      <td>2015</td>\n",
       "      <td>1</td>\n",
       "      <td>2</td>\n",
       "      <td>3473177.0</td>\n",
       "      <td>8.197106</td>\n",
       "      <td>10.614201</td>\n",
       "    </tr>\n",
       "    <tr>\n",
       "      <th>2015-01-03</th>\n",
       "      <td>2015-01-03</td>\n",
       "      <td>78</td>\n",
       "      <td>2015</td>\n",
       "      <td>1</td>\n",
       "      <td>3</td>\n",
       "      <td>3473177.0</td>\n",
       "      <td>8.197106</td>\n",
       "      <td>8.197106</td>\n",
       "    </tr>\n",
       "    <tr>\n",
       "      <th>2015-01-04</th>\n",
       "      <td>2015-01-04</td>\n",
       "      <td>121</td>\n",
       "      <td>2015</td>\n",
       "      <td>1</td>\n",
       "      <td>4</td>\n",
       "      <td>3473177.0</td>\n",
       "      <td>8.197106</td>\n",
       "      <td>12.716023</td>\n",
       "    </tr>\n",
       "    <tr>\n",
       "      <th>2015-01-05</th>\n",
       "      <td>2015-01-05</td>\n",
       "      <td>99</td>\n",
       "      <td>2015</td>\n",
       "      <td>1</td>\n",
       "      <td>5</td>\n",
       "      <td>3473177.0</td>\n",
       "      <td>8.197106</td>\n",
       "      <td>10.404019</td>\n",
       "    </tr>\n",
       "  </tbody>\n",
       "</table>\n",
       "</div>"
      ],
      "text/plain": [
       "                 date  deaths  year  month  day        pop  year_rate  \\\n",
       "date                                                                    \n",
       "2015-01-01 2015-01-01     107  2015      1    1  3473177.0   8.197106   \n",
       "2015-01-02 2015-01-02     101  2015      1    2  3473177.0   8.197106   \n",
       "2015-01-03 2015-01-03      78  2015      1    3  3473177.0   8.197106   \n",
       "2015-01-04 2015-01-04     121  2015      1    4  3473177.0   8.197106   \n",
       "2015-01-05 2015-01-05      99  2015      1    5  3473177.0   8.197106   \n",
       "\n",
       "             day_rate  \n",
       "date                   \n",
       "2015-01-01  11.244748  \n",
       "2015-01-02  10.614201  \n",
       "2015-01-03   8.197106  \n",
       "2015-01-04  12.716023  \n",
       "2015-01-05  10.404019  "
      ]
     },
     "execution_count": 8,
     "metadata": {},
     "output_type": "execute_result"
    }
   ],
   "source": [
    "# clean up population columns\n",
    "df = df.drop('est_pop', axis=1)\n",
    "df = df.rename({\"est_pop_lerped\": \"pop\"}, axis=1)\n",
    "df.head()"
   ]
  },
  {
   "cell_type": "markdown",
   "metadata": {},
   "source": [
    "# Calculate day rate and average rate"
   ]
  },
  {
   "cell_type": "code",
   "execution_count": 9,
   "metadata": {},
   "outputs": [
    {
     "data": {
      "text/plain": [
       "<matplotlib.axes._subplots.AxesSubplot at 0x7ffa58933c50>"
      ]
     },
     "execution_count": 9,
     "metadata": {},
     "output_type": "execute_result"
    }
   ],
   "source": [
    "adf = df.query('year < 2017 and not (month == 2 and day == 29)')\n",
    "ardf = adf.groupby(['month', 'day'], as_index=False).apply(lambda x: (x.day_rate - x.year_rate).mean())\n",
    "ardf = ardf.to_frame(name='avg_rate')\n",
    "ajdf = adf.merge(ardf, on=['month', 'day'])\n",
    "\n",
    "adf = ajdf \n",
    "adf.plot(x='date', y='avg_rate', style='.')"
   ]
  },
  {
   "cell_type": "markdown",
   "metadata": {},
   "source": [
    "# Average rate smoothed\n",
    "Using lowess to calculate the average rate."
   ]
  },
  {
   "cell_type": "code",
   "execution_count": 10,
   "metadata": {},
   "outputs": [
    {
     "data": {
      "text/plain": [
       "<matplotlib.axes._subplots.AxesSubplot at 0x7ffa539efc88>"
      ]
     },
     "execution_count": 10,
     "metadata": {},
     "output_type": "execute_result"
    },
    {
     "data": {
      "image/png": "[encoded data removed]",
      "text/plain": [
       "<Figure size 432x288 with 1 Axes>"
      ]
     },
     "metadata": {
      "needs_background": "light"
     },
     "output_type": "display_data"
    }
   ],
   "source": [
    "# Need to run and use lowess to smoothen out graph\n",
    "from statsmodels.tsa.seasonal import seasonal_decompose\n",
    "import statsmodels.api as sm\n",
    "lowess = sm.nonparametric.lowess\n",
    "\n",
    "smdf = adf\n",
    "smdf['avg_rate_smoothed'] = lowess(adf.avg_rate, adf.date, frac=0.15, it=3, return_sorted=False)\n",
    "smdf.plot(x='date', y=['avg_rate', 'avg_rate_smoothed'])"
   ]
  },
  {
   "cell_type": "markdown",
   "metadata": {},
   "source": [
    "# Calculate trend\n",
    "Merge some columns and add it to a new dataframe that includes all the data."
   ]
  },
  {
   "cell_type": "code",
   "execution_count": 11,
   "metadata": {},
   "outputs": [
    {
     "name": "stderr",
     "output_type": "stream",
     "text": [
      "/home/angelsan720/miniconda3/envs/datascience/lib/python3.7/site-packages/IPython/core/interactiveshell.py:3267: FutureWarning: 'date' is both an index level and a column label.\n",
      "Defaulting to column, but this will raise an ambiguity error in a future version\n",
      "  exec(code_obj, self.user_global_ns, self.user_ns)\n"
     ]
    },
    {
     "data": {
      "text/plain": [
       "<matplotlib.axes._subplots.AxesSubplot at 0x7ffa53982c50>"
      ]
     },
     "execution_count": 11,
     "metadata": {},
     "output_type": "execute_result"
    },
    {
     "data": {
      "image/png": "[encoded data removed]",
      "text/plain": [
       "<Figure size 432x288 with 1 Axes>"
      ]
     },
     "metadata": {
      "needs_background": "light"
     },
     "output_type": "display_data"
    }
   ],
   "source": [
    "# Merging and renaming\n",
    "full = pd.merge(df, smdf[['date', 'avg_rate', 'avg_rate_smoothed']], on='date', how='left')\n",
    "full = full.set_index(pd.to_datetime(full.date))\n",
    "\n",
    "full = full.rename({\"avg_rate_smoothed\": \"trend\", \"day_rate\": \"rate\"}, axis=1)\n",
    "\n",
    "# TODO: remove this\n",
    "full.plot(x='date', y=['year_rate', 'rate', 'trend'])"
   ]
  },
  {
   "cell_type": "markdown",
   "metadata": {},
   "source": [
    "# Annual trend\n",
    "Calculate annual trend using the data from 2015."
   ]
  },
  {
   "cell_type": "code",
   "execution_count": 12,
   "metadata": {},
   "outputs": [
    {
     "data": {
      "text/plain": [
       "<matplotlib.axes._subplots.AxesSubplot at 0x7ffa5383d4e0>"
      ]
     },
     "execution_count": 12,
     "metadata": {},
     "output_type": "execute_result"
    },
    {
     "data": {
      "image/png": "[encoded data removed]",
      "text/plain": [
       "<Figure size 432x288 with 1 Axes>"
      ]
     },
     "metadata": {
      "needs_background": "light"
     },
     "output_type": "display_data"
    }
   ],
   "source": [
    "# copy annual trend to 2017-18\n",
    "ann_trend = full.loc[full[\"date\"].dt.year == 2015, \"trend\"]\n",
    "ann_trend # how to copy to 2017-18??\n",
    "ann_trend = pd.DataFrame(ann_trend)\n",
    "ann_trend.plot()"
   ]
  }
 ],
 "metadata": {
  "kernelspec": {
   "display_name": "Python 3",
   "language": "python",
   "name": "python3"
  },
  "language_info": {
   "codemirror_mode": {
    "name": "ipython",
    "version": 3
   },
   "file_extension": ".py",
   "mimetype": "text/x-python",
   "name": "python",
   "nbconvert_exporter": "python",
   "pygments_lexer": "ipython3",
   "version": "3.7.2"
  }
 },
 "nbformat": 4,
 "nbformat_minor": 2
}
